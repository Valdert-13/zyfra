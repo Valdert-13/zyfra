{
 "cells": [
  {
   "cell_type": "code",
   "execution_count": 1,
   "id": "4f7394bf",
   "metadata": {},
   "outputs": [],
   "source": [
    "import pandas as pd\n",
    "import numpy as np\n",
    "import catboost as catb \n",
    "import seaborn as sns\n",
    "import matplotlib.pyplot as plt\n",
    "from sklearn.utils import shuffle\n",
    "from sc import Score_model_dev, get_input\n",
    "import holidays\n",
    "from datetime import date\n",
    "from tqdm import tqdm\n",
    "tqdm.pandas()\n",
    "\n",
    "import warnings\n",
    "warnings.simplefilter(\"ignore\")"
   ]
  },
  {
   "cell_type": "code",
   "execution_count": 2,
   "id": "42bff50f",
   "metadata": {},
   "outputs": [],
   "source": [
    "sample = pd.read_csv(\"./date/sample_submission.csv\")\n",
    "X_train = pd.read_csv(\"./date/X_train.csv\")\n",
    "X_valid = pd.read_csv('./date/X_valid.csv')\n",
    "y_train = pd.read_csv('./date/y_train.csv')"
   ]
  },
  {
   "cell_type": "code",
   "execution_count": 3,
   "id": "0894e494",
   "metadata": {},
   "outputs": [],
   "source": [
    "def processing(df: pd.DataFrame) -> pd.DataFrame:\n",
    "    \"\"\"Предварительная подготовка данных\"\"\"\n",
    "    \n",
    "    df['DBM_Request_Time'] =  pd.to_datetime(df['DBM_Request_Time'])\n",
    "    df['dayofweek'] = df['DBM_Request_Time'].dt.dayofweek\n",
    "    df['month'] = pd.DatetimeIndex(df['DBM_Request_Time']).month\n",
    "    df['day'] = pd.DatetimeIndex(df['DBM_Request_Time']).day\n",
    "    df['hour'] = pd.DatetimeIndex(df['DBM_Request_Time']).hour\n",
    "    \n",
    "    df['City_ID'] = df['City_ID'].fillna(0).astype(int)\n",
    "    df['DBM_Creative_ID'] = df['DBM_Creative_ID'].astype(int)\n",
    "    df['DBM_Operating_System_ID'] = df['DBM_Operating_System_ID'].astype(int)\n",
    "    df['DBM_Browser_Platform_ID'] = df['DBM_Browser_Platform_ID'].astype(int)\n",
    "    df['DBM_Device_Type'] = df['DBM_Device_Type'].astype(int)\n",
    "    \n",
    "    return df"
   ]
  },
  {
   "cell_type": "code",
   "execution_count": 4,
   "id": "340d6ce0",
   "metadata": {},
   "outputs": [
    {
     "name": "stdout",
     "output_type": "stream",
     "text": [
      "Number of repeated lines 0\n"
     ]
    }
   ],
   "source": [
    "# Количество дубликатов\n",
    "duplicates = X_train.shape[0] - X_train.drop_duplicates().shape[0]\n",
    "print (f'Number of repeated lines {duplicates}')"
   ]
  },
  {
   "cell_type": "code",
   "execution_count": 5,
   "id": "e36b9654",
   "metadata": {},
   "outputs": [
    {
     "data": {
      "text/plain": [
       "ID                               0\n",
       "Country_Code                     0\n",
       "City_ID                    1188164\n",
       "DBM_Request_Time                 0\n",
       "DBM_Creative_ID                  0\n",
       "DBM_Language                     0\n",
       "DBM_Operating_System_ID          0\n",
       "DBM_Browser_Platform_ID          0\n",
       "DBM_Device_Type                  0\n",
       "DBM_Mobile_Model_ID              0\n",
       "domen                            0\n",
       "dtype: int64"
      ]
     },
     "execution_count": 5,
     "metadata": {},
     "output_type": "execute_result"
    }
   ],
   "source": [
    "X_train.isna().sum() "
   ]
  },
  {
   "cell_type": "code",
   "execution_count": 6,
   "id": "609de07a",
   "metadata": {},
   "outputs": [
    {
     "data": {
      "text/plain": [
       "ID                              0\n",
       "Country_Code                    0\n",
       "City_ID                    791289\n",
       "DBM_Request_Time                0\n",
       "DBM_Creative_ID                 0\n",
       "DBM_Language                    0\n",
       "DBM_Operating_System_ID         0\n",
       "DBM_Browser_Platform_ID         0\n",
       "DBM_Device_Type                 0\n",
       "DBM_Mobile_Model_ID             0\n",
       "domen                           0\n",
       "dtype: int64"
      ]
     },
     "execution_count": 6,
     "metadata": {},
     "output_type": "execute_result"
    }
   ],
   "source": [
    "X_valid.isna().sum() "
   ]
  },
  {
   "cell_type": "code",
   "execution_count": 7,
   "id": "3a895ffc",
   "metadata": {},
   "outputs": [
    {
     "data": {
      "text/plain": [
       "0    9962580\n",
       "1      35150\n",
       "Name: TARGET, dtype: int64"
      ]
     },
     "execution_count": 7,
     "metadata": {},
     "output_type": "execute_result"
    }
   ],
   "source": [
    "y_train['TARGET'].value_counts()"
   ]
  },
  {
   "cell_type": "code",
   "execution_count": 8,
   "id": "084618bb",
   "metadata": {},
   "outputs": [],
   "source": [
    "X_train = processing(X_train)\n",
    "X_valid = processing(X_valid)"
   ]
  },
  {
   "cell_type": "code",
   "execution_count": 9,
   "id": "25f9db74",
   "metadata": {},
   "outputs": [],
   "source": [
    "minority = y_train[y_train[\"TARGET\"] == 1]\n",
    "majority = y_train[y_train[\"TARGET\"] == 0].sample(n=len(minority))"
   ]
  },
  {
   "cell_type": "code",
   "execution_count": 10,
   "id": "b2159090",
   "metadata": {},
   "outputs": [],
   "source": [
    "y_train = pd.concat([minority, majority])\n",
    "y_train = shuffle(y_train).reset_index(drop=True)"
   ]
  },
  {
   "cell_type": "code",
   "execution_count": 11,
   "id": "7bcd4933",
   "metadata": {},
   "outputs": [],
   "source": [
    "train = y_train.merge(\n",
    "    X_train, how=\"left\", on=\"ID\"\n",
    ")\n",
    "train = train.drop(['ID', 'DBM_Request_Time'], axis=1)\n",
    "test = X_valid.drop(['ID', 'DBM_Request_Time'], axis=1)"
   ]
  },
  {
   "cell_type": "code",
   "execution_count": 12,
   "id": "5549be1d",
   "metadata": {},
   "outputs": [
    {
     "data": {
      "text/html": [
       "<div>\n",
       "<style scoped>\n",
       "    .dataframe tbody tr th:only-of-type {\n",
       "        vertical-align: middle;\n",
       "    }\n",
       "\n",
       "    .dataframe tbody tr th {\n",
       "        vertical-align: top;\n",
       "    }\n",
       "\n",
       "    .dataframe thead th {\n",
       "        text-align: right;\n",
       "    }\n",
       "</style>\n",
       "<table border=\"1\" class=\"dataframe\">\n",
       "  <thead>\n",
       "    <tr style=\"text-align: right;\">\n",
       "      <th></th>\n",
       "      <th>TARGET</th>\n",
       "      <th>Country_Code</th>\n",
       "      <th>City_ID</th>\n",
       "      <th>DBM_Creative_ID</th>\n",
       "      <th>DBM_Language</th>\n",
       "      <th>DBM_Operating_System_ID</th>\n",
       "      <th>DBM_Browser_Platform_ID</th>\n",
       "      <th>DBM_Device_Type</th>\n",
       "      <th>DBM_Mobile_Model_ID</th>\n",
       "      <th>domen</th>\n",
       "      <th>dayofweek</th>\n",
       "      <th>month</th>\n",
       "      <th>day</th>\n",
       "      <th>hour</th>\n",
       "    </tr>\n",
       "  </thead>\n",
       "  <tbody>\n",
       "    <tr>\n",
       "      <th>0</th>\n",
       "      <td>1</td>\n",
       "      <td>RU</td>\n",
       "      <td>29356</td>\n",
       "      <td>215163790</td>\n",
       "      <td>RU</td>\n",
       "      <td>1175</td>\n",
       "      <td>3</td>\n",
       "      <td>2</td>\n",
       "      <td>7016.0</td>\n",
       "      <td>mbapp_url</td>\n",
       "      <td>4</td>\n",
       "      <td>12</td>\n",
       "      <td>27</td>\n",
       "      <td>3</td>\n",
       "    </tr>\n",
       "    <tr>\n",
       "      <th>1</th>\n",
       "      <td>1</td>\n",
       "      <td>RU</td>\n",
       "      <td>29364</td>\n",
       "      <td>215162880</td>\n",
       "      <td>Other</td>\n",
       "      <td>1181</td>\n",
       "      <td>3</td>\n",
       "      <td>2</td>\n",
       "      <td>6459.0</td>\n",
       "      <td>other</td>\n",
       "      <td>2</td>\n",
       "      <td>12</td>\n",
       "      <td>25</td>\n",
       "      <td>8</td>\n",
       "    </tr>\n",
       "    <tr>\n",
       "      <th>2</th>\n",
       "      <td>1</td>\n",
       "      <td>RU</td>\n",
       "      <td>29349</td>\n",
       "      <td>215162880</td>\n",
       "      <td>RU</td>\n",
       "      <td>1205</td>\n",
       "      <td>3</td>\n",
       "      <td>2</td>\n",
       "      <td>7978.0</td>\n",
       "      <td>other</td>\n",
       "      <td>0</td>\n",
       "      <td>12</td>\n",
       "      <td>23</td>\n",
       "      <td>22</td>\n",
       "    </tr>\n",
       "  </tbody>\n",
       "</table>\n",
       "</div>"
      ],
      "text/plain": [
       "   TARGET Country_Code  City_ID  DBM_Creative_ID DBM_Language  \\\n",
       "0       1           RU    29356        215163790           RU   \n",
       "1       1           RU    29364        215162880        Other   \n",
       "2       1           RU    29349        215162880           RU   \n",
       "\n",
       "   DBM_Operating_System_ID  DBM_Browser_Platform_ID  DBM_Device_Type  \\\n",
       "0                     1175                        3                2   \n",
       "1                     1181                        3                2   \n",
       "2                     1205                        3                2   \n",
       "\n",
       "  DBM_Mobile_Model_ID      domen  dayofweek  month  day  hour  \n",
       "0              7016.0  mbapp_url          4     12   27     3  \n",
       "1              6459.0      other          2     12   25     8  \n",
       "2              7978.0      other          0     12   23    22  "
      ]
     },
     "execution_count": 12,
     "metadata": {},
     "output_type": "execute_result"
    }
   ],
   "source": [
    "train.head(3)"
   ]
  },
  {
   "cell_type": "code",
   "execution_count": 13,
   "id": "e914919a",
   "metadata": {},
   "outputs": [],
   "source": [
    "# подготовка моделей\n",
    "cat_columns = ['Country_Code', \n",
    "               'City_ID', \n",
    "               'DBM_Creative_ID', \n",
    "               'DBM_Language', \n",
    "               'DBM_Operating_System_ID', \n",
    "               'DBM_Browser_Platform_ID', \n",
    "               'DBM_Device_Type', \n",
    "               'DBM_Mobile_Model_ID', \n",
    "               'domen', \n",
    "               'month', \n",
    "               'day', \n",
    "               'hour',\n",
    "               'dayofweek',\n",
    "              ]\n",
    "\n",
    "\n",
    "\n",
    "\n",
    "catbm = catb.CatBoostClassifier(eval_metric='AUC',\n",
    "                                depth=3,\n",
    "                                silent=True,\n",
    "                                iterations=1000,\n",
    "                                random_state=21,\n",
    "                                early_stopping_rounds=200, \n",
    "                                cat_features= cat_columns)\n",
    "\n",
    "\n",
    "catbm_xgb = catb.CatBoostClassifier(eval_metric='AUC',\n",
    "                                    grow_policy='Depthwise',\n",
    "                                    depth=3,\n",
    "                                    min_data_in_leaf=500,\n",
    "                                    silent=True,\n",
    "                                    iterations=1000,\n",
    "                                    random_state=21,\n",
    "                                    early_stopping_rounds=200,\n",
    "                                    cat_features=cat_columns,)\n",
    "\n",
    "catbm_lgb = catb.CatBoostClassifier(eval_metric='AUC',\n",
    "                                    grow_policy='Lossguide',\n",
    "                                    max_leaves=100,\n",
    "                                    min_data_in_leaf=400,\n",
    "                                    silent=True,\n",
    "                                    iterations=1000,\n",
    "                                    random_state=21,\n",
    "                                    early_stopping_rounds=200,\n",
    "                                    cat_features = cat_columns,)"
   ]
  },
  {
   "cell_type": "code",
   "execution_count": 14,
   "id": "71e48097",
   "metadata": {},
   "outputs": [],
   "source": [
    "models = {'catbm':catbm,\n",
    "          'catbm_lgb':catbm_lgb,\n",
    "          'catbm_xgb':catbm_xgb\n",
    "         }\n",
    "TARGET_NAME = 'TARGET'"
   ]
  },
  {
   "cell_type": "code",
   "execution_count": 15,
   "id": "7fe0410c",
   "metadata": {},
   "outputs": [],
   "source": [
    "scd = Score_model_dev(df=train, TARGET_NAME=TARGET_NAME, KFold=10, models=models)"
   ]
  },
  {
   "cell_type": "code",
   "execution_count": 16,
   "id": "f982855f",
   "metadata": {},
   "outputs": [
    {
     "name": "stdout",
     "output_type": "stream",
     "text": [
      "\n",
      "FOLD 1 REPORT\n",
      "\u001b[4mModel                                                                     f1 score    Recall  Precission   ROC AUC      Gini\u001b[0m\n",
      "catbm                                                                       0.6146    0.5911        0.64    0.6296    0.2592\n",
      "catbm_lgb                                                                   0.6123    0.5931      0.6327    0.6247    0.2494\n",
      "catbm_xgb                                                                   0.6107    0.5931      0.6293    0.6222    0.2444\n",
      "\n",
      "FOLD 2 REPORT\n",
      "\u001b[4mModel                                                                     f1 score    Recall  Precission   ROC AUC      Gini\u001b[0m\n",
      "catbm                                                                       0.6163    0.5927      0.6418    0.6309    0.2618\n",
      "catbm_lgb                                                                   0.6226    0.6041      0.6423    0.6337    0.2674\n",
      "catbm_xgb                                                                   0.6208    0.6018       0.641    0.6323    0.2646\n",
      "\n",
      "FOLD 3 REPORT\n",
      "\u001b[4mModel                                                                     f1 score    Recall  Precission   ROC AUC      Gini\u001b[0m\n",
      "catbm                                                                         0.61    0.5785      0.6452    0.6242    0.2484\n",
      "catbm_lgb                                                                   0.6118    0.5818      0.6451    0.6248    0.2496\n",
      "catbm_xgb                                                                   0.6083    0.5779      0.6419    0.6217    0.2434\n",
      "\n",
      "FOLD 4 REPORT\n",
      "\u001b[4mModel                                                                     f1 score    Recall  Precission   ROC AUC      Gini\u001b[0m\n",
      "catbm                                                                       0.6159    0.6026      0.6298    0.6274    0.2548\n",
      "catbm_lgb                                                                   0.6148    0.6032      0.6268    0.6253    0.2506\n",
      "catbm_xgb                                                                   0.6104    0.5955       0.626    0.6231    0.2462\n",
      "\n",
      "FOLD 5 REPORT\n",
      "\u001b[4mModel                                                                     f1 score    Recall  Precission   ROC AUC      Gini\u001b[0m\n",
      "catbm                                                                        0.621    0.6005      0.6429    0.6347    0.2694\n",
      "catbm_lgb                                                                    0.624    0.6045      0.6448     0.637     0.274\n",
      "catbm_xgb                                                                   0.6168    0.5971      0.6379    0.6303    0.2606\n",
      "\n",
      "FOLD 6 REPORT\n",
      "\u001b[4mModel                                                                     f1 score    Recall  Precission   ROC AUC      Gini\u001b[0m\n",
      "catbm                                                                       0.6195    0.6098      0.6296    0.6336    0.2672\n",
      "catbm_lgb                                                                   0.6125    0.5958      0.6301    0.6309    0.2618\n",
      "catbm_xgb                                                                   0.6144    0.6019      0.6273    0.6302    0.2604\n",
      "\n",
      "FOLD 7 REPORT\n",
      "\u001b[4mModel                                                                     f1 score    Recall  Precission   ROC AUC      Gini\u001b[0m\n",
      "catbm                                                                        0.614    0.5822      0.6495      0.63      0.26\n",
      "catbm_lgb                                                                   0.6189    0.5929      0.6472    0.6308    0.2616\n",
      "catbm_xgb                                                                   0.6154    0.5875       0.646    0.6287    0.2574\n",
      "\n",
      "FOLD 8 REPORT\n",
      "\u001b[4mModel                                                                     f1 score    Recall  Precission   ROC AUC      Gini\u001b[0m\n",
      "catbm                                                                       0.6231    0.6029      0.6447    0.6355     0.271\n",
      "catbm_lgb                                                                   0.6261    0.6114      0.6414     0.635      0.27\n",
      "catbm_xgb                                                                   0.6246    0.6114      0.6383    0.6327    0.2654\n",
      "\n",
      "FOLD 9 REPORT\n",
      "\u001b[4mModel                                                                     f1 score    Recall  Precission   ROC AUC      Gini\u001b[0m\n",
      "catbm                                                                       0.6298    0.6147      0.6457     0.636     0.272\n",
      "catbm_lgb                                                                   0.6231    0.6049      0.6424    0.6314    0.2628\n",
      "catbm_xgb                                                                   0.6243    0.6094      0.6399    0.6305     0.261\n",
      "\n",
      "FOLD 10 REPORT\n",
      "\u001b[4mModel                                                                     f1 score    Recall  Precission   ROC AUC      Gini\u001b[0m\n",
      "catbm                                                                       0.6211    0.5955       0.649    0.6373    0.2746\n",
      "catbm_lgb                                                                   0.6196    0.5941      0.6474    0.6359    0.2718\n",
      "catbm_xgb                                                                   0.6181    0.5935      0.6448    0.6339    0.2678\n",
      "\n",
      "FINAL REPORT\n",
      "\u001b[4mModel                                                                     f1 score    Recall  Precission   ROC AUC      Gini\u001b[0m\n",
      "catbm                                                                       0.6186     0.597      0.6418    0.6319    0.2638\n",
      "catbm_lgb                                                                   0.6186    0.5985        0.64    0.6309    0.2618\n",
      "catbm_xgb                                                                   0.6164    0.5969      0.6372    0.6285     0.257\n"
     ]
    }
   ],
   "source": [
    "scd.fit()"
   ]
  },
  {
   "cell_type": "markdown",
   "id": "21532b4e",
   "metadata": {},
   "source": [
    "#### Gini = 2 * ROC_AUC - 1"
   ]
  },
  {
   "cell_type": "code",
   "execution_count": 17,
   "id": "8f20198c",
   "metadata": {},
   "outputs": [],
   "source": [
    "res = scd.predict(test)"
   ]
  },
  {
   "cell_type": "code",
   "execution_count": 18,
   "id": "14163c22",
   "metadata": {},
   "outputs": [
    {
     "data": {
      "text/html": [
       "<div>\n",
       "<style scoped>\n",
       "    .dataframe tbody tr th:only-of-type {\n",
       "        vertical-align: middle;\n",
       "    }\n",
       "\n",
       "    .dataframe tbody tr th {\n",
       "        vertical-align: top;\n",
       "    }\n",
       "\n",
       "    .dataframe thead th {\n",
       "        text-align: right;\n",
       "    }\n",
       "</style>\n",
       "<table border=\"1\" class=\"dataframe\">\n",
       "  <thead>\n",
       "    <tr style=\"text-align: right;\">\n",
       "      <th></th>\n",
       "      <th>Country_Code</th>\n",
       "      <th>City_ID</th>\n",
       "      <th>DBM_Creative_ID</th>\n",
       "      <th>DBM_Language</th>\n",
       "      <th>DBM_Operating_System_ID</th>\n",
       "      <th>DBM_Browser_Platform_ID</th>\n",
       "      <th>DBM_Device_Type</th>\n",
       "      <th>DBM_Mobile_Model_ID</th>\n",
       "      <th>domen</th>\n",
       "      <th>dayofweek</th>\n",
       "      <th>month</th>\n",
       "      <th>day</th>\n",
       "      <th>hour</th>\n",
       "      <th>catbm</th>\n",
       "      <th>catbm_lgb</th>\n",
       "      <th>catbm_xgb</th>\n",
       "    </tr>\n",
       "  </thead>\n",
       "  <tbody>\n",
       "    <tr>\n",
       "      <th>0</th>\n",
       "      <td>RU</td>\n",
       "      <td>29378</td>\n",
       "      <td>215162880</td>\n",
       "      <td>RU</td>\n",
       "      <td>1175</td>\n",
       "      <td>3</td>\n",
       "      <td>2</td>\n",
       "      <td>7016.0</td>\n",
       "      <td>kp.ru</td>\n",
       "      <td>1</td>\n",
       "      <td>12</td>\n",
       "      <td>24</td>\n",
       "      <td>23</td>\n",
       "      <td>0.415448</td>\n",
       "      <td>0.406832</td>\n",
       "      <td>0.415179</td>\n",
       "    </tr>\n",
       "    <tr>\n",
       "      <th>1</th>\n",
       "      <td>RU</td>\n",
       "      <td>0</td>\n",
       "      <td>215163790</td>\n",
       "      <td>RU</td>\n",
       "      <td>1175</td>\n",
       "      <td>3</td>\n",
       "      <td>2</td>\n",
       "      <td>6450.0</td>\n",
       "      <td>expert.ru</td>\n",
       "      <td>4</td>\n",
       "      <td>12</td>\n",
       "      <td>27</td>\n",
       "      <td>4</td>\n",
       "      <td>0.671670</td>\n",
       "      <td>0.709363</td>\n",
       "      <td>0.702242</td>\n",
       "    </tr>\n",
       "    <tr>\n",
       "      <th>2</th>\n",
       "      <td>RU</td>\n",
       "      <td>29459</td>\n",
       "      <td>215162880</td>\n",
       "      <td>RU</td>\n",
       "      <td>1181</td>\n",
       "      <td>3</td>\n",
       "      <td>2</td>\n",
       "      <td>6459.0</td>\n",
       "      <td>drive2.ru</td>\n",
       "      <td>0</td>\n",
       "      <td>12</td>\n",
       "      <td>30</td>\n",
       "      <td>22</td>\n",
       "      <td>0.394591</td>\n",
       "      <td>0.407058</td>\n",
       "      <td>0.408807</td>\n",
       "    </tr>\n",
       "  </tbody>\n",
       "</table>\n",
       "</div>"
      ],
      "text/plain": [
       "  Country_Code  City_ID  DBM_Creative_ID DBM_Language  \\\n",
       "0           RU    29378        215162880           RU   \n",
       "1           RU        0        215163790           RU   \n",
       "2           RU    29459        215162880           RU   \n",
       "\n",
       "   DBM_Operating_System_ID  DBM_Browser_Platform_ID  DBM_Device_Type  \\\n",
       "0                     1175                        3                2   \n",
       "1                     1175                        3                2   \n",
       "2                     1181                        3                2   \n",
       "\n",
       "  DBM_Mobile_Model_ID      domen  dayofweek  month  day  hour     catbm  \\\n",
       "0              7016.0      kp.ru          1     12   24    23  0.415448   \n",
       "1              6450.0  expert.ru          4     12   27     4  0.671670   \n",
       "2              6459.0  drive2.ru          0     12   30    22  0.394591   \n",
       "\n",
       "   catbm_lgb  catbm_xgb  \n",
       "0   0.406832   0.415179  \n",
       "1   0.709363   0.702242  \n",
       "2   0.407058   0.408807  "
      ]
     },
     "execution_count": 18,
     "metadata": {},
     "output_type": "execute_result"
    }
   ],
   "source": [
    "res.head(3)"
   ]
  },
  {
   "cell_type": "code",
   "execution_count": 19,
   "id": "6e430367",
   "metadata": {},
   "outputs": [],
   "source": [
    "res['TARGET'] = (res['catbm'] + res['catbm_lgb'] + res['catbm_xgb'])/3"
   ]
  },
  {
   "cell_type": "code",
   "execution_count": 20,
   "id": "2644a13e",
   "metadata": {},
   "outputs": [],
   "source": [
    "result = X_valid[['ID']].merge(\n",
    "    res[['TARGET']] , how=\"left\", left_index=True, right_index=True\n",
    ")"
   ]
  },
  {
   "cell_type": "code",
   "execution_count": 21,
   "id": "79fa773f",
   "metadata": {},
   "outputs": [
    {
     "data": {
      "text/html": [
       "<div>\n",
       "<style scoped>\n",
       "    .dataframe tbody tr th:only-of-type {\n",
       "        vertical-align: middle;\n",
       "    }\n",
       "\n",
       "    .dataframe tbody tr th {\n",
       "        vertical-align: top;\n",
       "    }\n",
       "\n",
       "    .dataframe thead th {\n",
       "        text-align: right;\n",
       "    }\n",
       "</style>\n",
       "<table border=\"1\" class=\"dataframe\">\n",
       "  <thead>\n",
       "    <tr style=\"text-align: right;\">\n",
       "      <th></th>\n",
       "      <th>ID</th>\n",
       "      <th>TARGET</th>\n",
       "    </tr>\n",
       "  </thead>\n",
       "  <tbody>\n",
       "    <tr>\n",
       "      <th>0</th>\n",
       "      <td>10757267</td>\n",
       "      <td>0.412486</td>\n",
       "    </tr>\n",
       "    <tr>\n",
       "      <th>1</th>\n",
       "      <td>6100469</td>\n",
       "      <td>0.694425</td>\n",
       "    </tr>\n",
       "    <tr>\n",
       "      <th>2</th>\n",
       "      <td>3054264</td>\n",
       "      <td>0.403485</td>\n",
       "    </tr>\n",
       "  </tbody>\n",
       "</table>\n",
       "</div>"
      ],
      "text/plain": [
       "         ID    TARGET\n",
       "0  10757267  0.412486\n",
       "1   6100469  0.694425\n",
       "2   3054264  0.403485"
      ]
     },
     "execution_count": 21,
     "metadata": {},
     "output_type": "execute_result"
    }
   ],
   "source": [
    "result.head(3)"
   ]
  },
  {
   "cell_type": "code",
   "execution_count": 22,
   "id": "aca28be4",
   "metadata": {},
   "outputs": [],
   "source": [
    "result.to_csv('./date/result.csv', index=False)"
   ]
  },
  {
   "cell_type": "code",
   "execution_count": null,
   "id": "b6271070",
   "metadata": {},
   "outputs": [],
   "source": []
  }
 ],
 "metadata": {
  "kernelspec": {
   "display_name": "Python 3",
   "language": "python",
   "name": "python3"
  },
  "language_info": {
   "codemirror_mode": {
    "name": "ipython",
    "version": 3
   },
   "file_extension": ".py",
   "mimetype": "text/x-python",
   "name": "python",
   "nbconvert_exporter": "python",
   "pygments_lexer": "ipython3",
   "version": "3.9.5"
  }
 },
 "nbformat": 4,
 "nbformat_minor": 5
}
